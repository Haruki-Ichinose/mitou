{
 "cells": [
  {
   "cell_type": "code",
   "execution_count": 1,
   "id": "455e03e5",
   "metadata": {},
   "outputs": [],
   "source": [
    "# Jupyter Notebookのセルに書くコード\n",
    "\n",
    "import pandas as pd\n",
    "import os\n",
    "\n",
    "# ./backend ディレクトリに置いたCSVファイル名を指定してください\n",
    "csv_file_name = 'StatsAllGroup.csv'"
   ]
  },
  {
   "cell_type": "code",
   "execution_count": 2,
   "id": "d98ac6a4",
   "metadata": {},
   "outputs": [
    {
     "name": "stdout",
     "output_type": "stream",
     "text": [
      "✅ CSVファイルの読み込みに成功しました！\n"
     ]
    }
   ],
   "source": [
    "# pandasでCSVファイルを読み込む\n",
    "# volumesで設定したため、コンテナ内のカレントパスにファイルがあるように見えます\n",
    "try:\n",
    "    df = pd.read_csv(csv_file_name, encoding='shift_jis')\n",
    "    print(\"✅ CSVファイルの読み込みに成功しました！\")\n",
    "\n",
    "except FileNotFoundError:\n",
    "    print(f\"❌ エラー: '{csv_file_name}' が見つかりません。\")\n",
    "    print(\"ファイル名が正しいか、CSVファイルが`backend`ディレクトリに置かれているか確認してください。\")\n",
    "    print(\"現在のディレクトリにあるファイル一覧:\", os.listdir('.'))"
   ]
  },
  {
   "cell_type": "code",
   "execution_count": 3,
   "id": "8612ad9e",
   "metadata": {},
   "outputs": [
    {
     "name": "stdout",
     "output_type": "stream",
     "text": [
      "✅ データ型の変換に成功しました！\n",
      "<class 'pandas.core.frame.DataFrame'>\n",
      "RangeIndex: 25933 entries, 0 to 25932\n",
      "Data columns (total 71 columns):\n",
      " #   Column                                          Non-Null Count  Dtype         \n",
      "---  ------                                          --------------  -----         \n",
      " 0   date_                                           25933 non-null  datetime64[ns]\n",
      " 1   date_name                                       25933 non-null  object        \n",
      " 2   start_time                                      25933 non-null  int64         \n",
      " 3   start_time_h                                    25933 non-null  float64       \n",
      " 4   end_time                                        25933 non-null  int64         \n",
      " 5   end_time_h                                      25933 non-null  float64       \n",
      " 6   activity_id                                     25933 non-null  object        \n",
      " 7   activity_name                                   25933 non-null  object        \n",
      " 8   period_id                                       25933 non-null  object        \n",
      " 9   period_name                                     25933 non-null  object        \n",
      " 10  athlete_id                                      25933 non-null  int64         \n",
      " 11  athlete_name                                    25933 non-null  object        \n",
      " 12  is_injected                                     25933 non-null  bool          \n",
      " 13  total_duration                                  25933 non-null  float64       \n",
      " 14  total_distance                                  25933 non-null  float64       \n",
      " 15  max_heart_rate                                  25933 non-null  int64         \n",
      " 16  mean_heart_rate                                 25933 non-null  float64       \n",
      " 17  min_heart_rate                                  25933 non-null  int64         \n",
      " 18  max_vel                                         25933 non-null  float64       \n",
      " 19  velocity_band1_total_distance                   25933 non-null  float64       \n",
      " 20  velocity_band2_total_distance                   25933 non-null  float64       \n",
      " 21  velocity_band3_total_distance                   25933 non-null  float64       \n",
      " 22  velocity_band4_total_distance                   25933 non-null  float64       \n",
      " 23  velocity_band5_total_distance                   25933 non-null  float64       \n",
      " 24  velocity_band6_total_distance                   25933 non-null  float64       \n",
      " 25  gen2_velocity_band1_total_effort_count          25933 non-null  int64         \n",
      " 26  gen2_velocity_band2_total_effort_count          25933 non-null  int64         \n",
      " 27  gen2_velocity_band3_total_effort_count          25933 non-null  int64         \n",
      " 28  gen2_velocity_band4_total_effort_count          25933 non-null  int64         \n",
      " 29  gen2_velocity_band5_total_effort_count          25933 non-null  int64         \n",
      " 30  gen2_velocity_band6_total_effort_count          25933 non-null  int64         \n",
      " 31  velocity2_band6_total_distance                  25933 non-null  float64       \n",
      " 32  velocity2_band7_total_distance                  25933 non-null  float64       \n",
      " 33  velocity2_band8_total_distance                  25933 non-null  int64         \n",
      " 34  gen2_velocity2_band6_total_effort_count         25933 non-null  int64         \n",
      " 35  gen2_velocity2_band7_total_effort_count         25933 non-null  int64         \n",
      " 36  gen2_acceleration_band2plus_total_effort_count  25933 non-null  int64         \n",
      " 37  gen2_acceleration_band3plus_total_effort_count  25933 non-null  int64         \n",
      " 38  gen2_acceleration_band6plus_total_effort_count  25933 non-null  int64         \n",
      " 39  gen2_acceleration_band7plus_total_effort_count  25933 non-null  int64         \n",
      " 40  heart_rate_band2_total_duration                 25933 non-null  float64       \n",
      " 41  heart_rate_band3_total_duration                 25933 non-null  float64       \n",
      " 42  total_player_load                               25933 non-null  float64       \n",
      " 43  total_jumps                                     25933 non-null  int64         \n",
      " 44  total_dive_load_centre                          25933 non-null  int64         \n",
      " 45  total_dive_load_left                            25933 non-null  int64         \n",
      " 46  total_dive_load_right                           25933 non-null  int64         \n",
      " 47  dive_right_count                                25933 non-null  int64         \n",
      " 48  dive_left_count                                 25933 non-null  int64         \n",
      " 49  dive_centre_count                               25933 non-null  int64         \n",
      " 50  total_dives_centre                              25933 non-null  int64         \n",
      " 51  total_dives_left                                25933 non-null  int64         \n",
      " 52  total_dives_right                               25933 non-null  int64         \n",
      " 53  total_time_to_feet_centre                       25933 non-null  int64         \n",
      " 54  total_time_to_feet_left                         25933 non-null  int64         \n",
      " 55  total_time_to_feet_right                        25933 non-null  int64         \n",
      " 56  day_code                                        25933 non-null  object        \n",
      " 57  ima_band2_accel_count                           25933 non-null  int64         \n",
      " 58  ima_band2_decel_count                           25933 non-null  int64         \n",
      " 59  ima_band2_left_count                            25933 non-null  int64         \n",
      " 60  ima_band2_right_count                           25933 non-null  int64         \n",
      " 61  ima_band2_jump_count                            25933 non-null  int64         \n",
      " 62  ima_band3_accel_count                           25933 non-null  int64         \n",
      " 63  ima_band3_decel_count                           25933 non-null  int64         \n",
      " 64  ima_band3_left_count                            25933 non-null  int64         \n",
      " 65  ima_band3_right_count                           25933 non-null  int64         \n",
      " 66  ima_band3_jump_count                            25933 non-null  int64         \n",
      " 67  metabolic_power_band3_total_distance            25933 non-null  float64       \n",
      " 68  metabolic_power_band4_total_distance            25933 non-null  float64       \n",
      " 69  metabolic_power_band5_total_distance            25933 non-null  float64       \n",
      " 70  metabolic_power_band6_total_distance            25933 non-null  float64       \n",
      "dtypes: bool(1), datetime64[ns](1), float64(21), int64(41), object(7)\n",
      "memory usage: 13.9+ MB\n"
     ]
    }
   ],
   "source": [
    "# 'date_'列を日付型に変換\n",
    "# dayfirst=True を追加して「日」が先に来ることを指定\n",
    "df['date_'] = pd.to_datetime(df['date_'], dayfirst=True)\n",
    "\n",
    "# 変換されたか df.info() で確認\n",
    "print(\"✅ データ型の変換に成功しました！\")\n",
    "df.info()"
   ]
  },
  {
   "cell_type": "code",
   "execution_count": 4,
   "id": "90af1320",
   "metadata": {},
   "outputs": [
    {
     "name": "stdout",
     "output_type": "stream",
     "text": [
      "<class 'pandas.core.frame.DataFrame'>\n",
      "RangeIndex: 25933 entries, 0 to 25932\n",
      "Data columns (total 71 columns):\n",
      " #   Column                                          Non-Null Count  Dtype         \n",
      "---  ------                                          --------------  -----         \n",
      " 0   date_                                           25933 non-null  datetime64[ns]\n",
      " 1   date_name                                       25933 non-null  object        \n",
      " 2   start_time                                      25933 non-null  int64         \n",
      " 3   start_time_h                                    25933 non-null  float64       \n",
      " 4   end_time                                        25933 non-null  int64         \n",
      " 5   end_time_h                                      25933 non-null  float64       \n",
      " 6   activity_id                                     25933 non-null  object        \n",
      " 7   activity_name                                   25933 non-null  object        \n",
      " 8   period_id                                       25933 non-null  object        \n",
      " 9   period_name                                     25933 non-null  object        \n",
      " 10  athlete_id                                      25933 non-null  int64         \n",
      " 11  athlete_name                                    25933 non-null  object        \n",
      " 12  is_injected                                     25933 non-null  bool          \n",
      " 13  total_duration                                  25933 non-null  float64       \n",
      " 14  total_distance                                  25933 non-null  float64       \n",
      " 15  max_heart_rate                                  25933 non-null  int64         \n",
      " 16  mean_heart_rate                                 25933 non-null  float64       \n",
      " 17  min_heart_rate                                  25933 non-null  int64         \n",
      " 18  max_vel                                         25933 non-null  float64       \n",
      " 19  velocity_band1_total_distance                   25933 non-null  float64       \n",
      " 20  velocity_band2_total_distance                   25933 non-null  float64       \n",
      " 21  velocity_band3_total_distance                   25933 non-null  float64       \n",
      " 22  velocity_band4_total_distance                   25933 non-null  float64       \n",
      " 23  velocity_band5_total_distance                   25933 non-null  float64       \n",
      " 24  velocity_band6_total_distance                   25933 non-null  float64       \n",
      " 25  gen2_velocity_band1_total_effort_count          25933 non-null  int64         \n",
      " 26  gen2_velocity_band2_total_effort_count          25933 non-null  int64         \n",
      " 27  gen2_velocity_band3_total_effort_count          25933 non-null  int64         \n",
      " 28  gen2_velocity_band4_total_effort_count          25933 non-null  int64         \n",
      " 29  gen2_velocity_band5_total_effort_count          25933 non-null  int64         \n",
      " 30  gen2_velocity_band6_total_effort_count          25933 non-null  int64         \n",
      " 31  velocity2_band6_total_distance                  25933 non-null  float64       \n",
      " 32  velocity2_band7_total_distance                  25933 non-null  float64       \n",
      " 33  velocity2_band8_total_distance                  25933 non-null  int64         \n",
      " 34  gen2_velocity2_band6_total_effort_count         25933 non-null  int64         \n",
      " 35  gen2_velocity2_band7_total_effort_count         25933 non-null  int64         \n",
      " 36  gen2_acceleration_band2plus_total_effort_count  25933 non-null  int64         \n",
      " 37  gen2_acceleration_band3plus_total_effort_count  25933 non-null  int64         \n",
      " 38  gen2_acceleration_band6plus_total_effort_count  25933 non-null  int64         \n",
      " 39  gen2_acceleration_band7plus_total_effort_count  25933 non-null  int64         \n",
      " 40  heart_rate_band2_total_duration                 25933 non-null  float64       \n",
      " 41  heart_rate_band3_total_duration                 25933 non-null  float64       \n",
      " 42  total_player_load                               25933 non-null  float64       \n",
      " 43  total_jumps                                     25933 non-null  int64         \n",
      " 44  total_dive_load_centre                          25933 non-null  int64         \n",
      " 45  total_dive_load_left                            25933 non-null  int64         \n",
      " 46  total_dive_load_right                           25933 non-null  int64         \n",
      " 47  dive_right_count                                25933 non-null  int64         \n",
      " 48  dive_left_count                                 25933 non-null  int64         \n",
      " 49  dive_centre_count                               25933 non-null  int64         \n",
      " 50  total_dives_centre                              25933 non-null  int64         \n",
      " 51  total_dives_left                                25933 non-null  int64         \n",
      " 52  total_dives_right                               25933 non-null  int64         \n",
      " 53  total_time_to_feet_centre                       25933 non-null  int64         \n",
      " 54  total_time_to_feet_left                         25933 non-null  int64         \n",
      " 55  total_time_to_feet_right                        25933 non-null  int64         \n",
      " 56  day_code                                        25933 non-null  object        \n",
      " 57  ima_band2_accel_count                           25933 non-null  int64         \n",
      " 58  ima_band2_decel_count                           25933 non-null  int64         \n",
      " 59  ima_band2_left_count                            25933 non-null  int64         \n",
      " 60  ima_band2_right_count                           25933 non-null  int64         \n",
      " 61  ima_band2_jump_count                            25933 non-null  int64         \n",
      " 62  ima_band3_accel_count                           25933 non-null  int64         \n",
      " 63  ima_band3_decel_count                           25933 non-null  int64         \n",
      " 64  ima_band3_left_count                            25933 non-null  int64         \n",
      " 65  ima_band3_right_count                           25933 non-null  int64         \n",
      " 66  ima_band3_jump_count                            25933 non-null  int64         \n",
      " 67  metabolic_power_band3_total_distance            25933 non-null  float64       \n",
      " 68  metabolic_power_band4_total_distance            25933 non-null  float64       \n",
      " 69  metabolic_power_band5_total_distance            25933 non-null  float64       \n",
      " 70  metabolic_power_band6_total_distance            25933 non-null  float64       \n",
      "dtypes: bool(1), datetime64[ns](1), float64(21), int64(41), object(7)\n",
      "memory usage: 13.9+ MB\n"
     ]
    }
   ],
   "source": [
    "# データ全体の情報を表示\n",
    "df.info()"
   ]
  },
  {
   "cell_type": "code",
   "execution_count": 5,
   "id": "8ece4ade",
   "metadata": {},
   "outputs": [
    {
     "name": "stdout",
     "output_type": "stream",
     "text": [
      "✅ 選手の数: 37\n"
     ]
    }
   ],
   "source": [
    "# athlete_idから選手の数を確認\n",
    "athlete_ids = df['athlete_id'].unique()\n",
    "print(f\"✅ 選手の数: {len(athlete_ids)}\")"
   ]
  },
  {
   "cell_type": "code",
   "execution_count": 6,
   "id": "5d29dc35",
   "metadata": {},
   "outputs": [
    {
     "data": {
      "text/plain": [
       "athlete_id\n",
       "17    1109\n",
       "44    1105\n",
       "43    1100\n",
       "26    1091\n",
       "8     1090\n",
       "18    1088\n",
       "13    1087\n",
       "40    1048\n",
       "25    1040\n",
       "19    1033\n",
       "21    1024\n",
       "23    1009\n",
       "5      997\n",
       "47     966\n",
       "46     962\n",
       "28     946\n",
       "38     943\n",
       "41     939\n",
       "45     936\n",
       "27     919\n",
       "20     914\n",
       "9      852\n",
       "42     821\n",
       "39     775\n",
       "7      515\n",
       "11     504\n",
       "56     504\n",
       "51     282\n",
       "57     221\n",
       "52      43\n",
       "53      27\n",
       "2       11\n",
       "55      10\n",
       "48       8\n",
       "54       8\n",
       "49       5\n",
       "50       1\n",
       "Name: count, dtype: int64"
      ]
     },
     "execution_count": 6,
     "metadata": {},
     "output_type": "execute_result"
    }
   ],
   "source": [
    "# athlete_idから選手ごとのデータ数を確認\n",
    "df['athlete_id'].value_counts()"
   ]
  },
  {
   "cell_type": "code",
   "execution_count": 7,
   "id": "e28b6b8c",
   "metadata": {},
   "outputs": [
    {
     "data": {
      "text/plain": [
       "period_name\n",
       "Warm up            3714\n",
       "Rondo              2282\n",
       "Poss                959\n",
       "Set piece           918\n",
       "AT                  902\n",
       "                   ... \n",
       "REhab                 1\n",
       "Recondintioning       1\n",
       "18 20                 1\n",
       "4 21                  1\n",
       "25                    1\n",
       "Name: count, Length: 409, dtype: int64"
      ]
     },
     "execution_count": 7,
     "metadata": {},
     "output_type": "execute_result"
    }
   ],
   "source": [
    "# 'period_name' の種類とそれぞれの件数を表示\n",
    "df['period_name'].value_counts()"
   ]
  },
  {
   "cell_type": "code",
   "execution_count": 8,
   "id": "9db9d26b",
   "metadata": {},
   "outputs": [
    {
     "name": "stderr",
     "output_type": "stream",
     "text": [
      "findfont: Font family 'Helvetica' not found.\n",
      "findfont: Font family 'Helvetica' not found.\n",
      "findfont: Font family 'Helvetica' not found.\n",
      "findfont: Font family 'Helvetica' not found.\n",
      "findfont: Font family 'Helvetica' not found.\n",
      "findfont: Font family 'Helvetica' not found.\n",
      "findfont: Font family 'Helvetica' not found.\n",
      "findfont: Font family 'Helvetica' not found.\n",
      "findfont: Font family 'Helvetica' not found.\n",
      "findfont: Font family 'Helvetica' not found.\n",
      "findfont: Font family 'Helvetica' not found.\n",
      "findfont: Font family 'Helvetica' not found.\n",
      "findfont: Font family 'Helvetica' not found.\n",
      "findfont: Font family 'Helvetica' not found.\n",
      "findfont: Font family 'Helvetica' not found.\n",
      "findfont: Font family 'Helvetica' not found.\n",
      "findfont: Font family 'Helvetica' not found.\n",
      "findfont: Font family 'Helvetica' not found.\n",
      "findfont: Font family 'Helvetica' not found.\n",
      "findfont: Font family 'Helvetica' not found.\n",
      "findfont: Font family 'Helvetica' not found.\n",
      "findfont: Font family 'Helvetica' not found.\n",
      "findfont: Font family 'Helvetica' not found.\n",
      "findfont: Font family 'Helvetica' not found.\n",
      "findfont: Font family 'Helvetica' not found.\n",
      "findfont: Font family 'Helvetica' not found.\n",
      "findfont: Font family 'Helvetica' not found.\n",
      "findfont: Font family 'Helvetica' not found.\n",
      "findfont: Font family 'Helvetica' not found.\n",
      "findfont: Font family 'Helvetica' not found.\n",
      "findfont: Font family 'Helvetica' not found.\n",
      "findfont: Font family 'Helvetica' not found.\n",
      "findfont: Font family 'Helvetica' not found.\n",
      "findfont: Font family 'Helvetica' not found.\n",
      "findfont: Font family 'Helvetica' not found.\n",
      "findfont: Font family 'Helvetica' not found.\n",
      "findfont: Font family 'Helvetica' not found.\n",
      "findfont: Font family 'Helvetica' not found.\n",
      "findfont: Font family 'Helvetica' not found.\n",
      "findfont: Font family 'Helvetica' not found.\n",
      "findfont: Font family 'Helvetica' not found.\n",
      "findfont: Font family 'Helvetica' not found.\n",
      "findfont: Font family 'Helvetica' not found.\n",
      "findfont: Font family 'Helvetica' not found.\n",
      "findfont: Font family 'Helvetica' not found.\n",
      "findfont: Font family 'Helvetica' not found.\n",
      "findfont: Font family 'Helvetica' not found.\n",
      "findfont: Font family 'Helvetica' not found.\n",
      "findfont: Font family 'Helvetica' not found.\n",
      "findfont: Font family 'Helvetica' not found.\n",
      "findfont: Font family 'Helvetica' not found.\n",
      "findfont: Font family 'Helvetica' not found.\n",
      "findfont: Font family 'Helvetica' not found.\n",
      "findfont: Font family 'Helvetica' not found.\n",
      "findfont: Font family 'Helvetica' not found.\n",
      "findfont: Font family 'Helvetica' not found.\n",
      "findfont: Font family 'Helvetica' not found.\n",
      "findfont: Font family 'Helvetica' not found.\n",
      "findfont: Font family 'Helvetica' not found.\n",
      "findfont: Font family 'Helvetica' not found.\n",
      "findfont: Font family 'Helvetica' not found.\n",
      "findfont: Font family 'Helvetica' not found.\n",
      "findfont: Font family 'Helvetica' not found.\n",
      "findfont: Font family 'Helvetica' not found.\n",
      "findfont: Font family 'Helvetica' not found.\n",
      "findfont: Font family 'Helvetica' not found.\n",
      "findfont: Font family 'Helvetica' not found.\n",
      "findfont: Font family 'Helvetica' not found.\n",
      "findfont: Font family 'Helvetica' not found.\n",
      "findfont: Font family 'Helvetica' not found.\n",
      "findfont: Font family 'Helvetica' not found.\n",
      "findfont: Font family 'Helvetica' not found.\n",
      "findfont: Font family 'Helvetica' not found.\n",
      "findfont: Font family 'Helvetica' not found.\n",
      "findfont: Font family 'Helvetica' not found.\n",
      "findfont: Font family 'Helvetica' not found.\n",
      "/opt/conda/lib/python3.11/site-packages/calplot/calplot.py:313: RuntimeWarning: More than 20 figures have been opened. Figures created through the pyplot interface (`matplotlib.pyplot.figure`) are retained until explicitly closed and may consume too much memory. (To control this warning, see the rcParam `figure.max_open_warning`). Consider using `matplotlib.pyplot.close()`.\n",
      "  fig, axes = plt.subplots(nrows=len(years), ncols=1, squeeze=False,\n",
      "findfont: Font family 'Helvetica' not found.\n",
      "findfont: Font family 'Helvetica' not found.\n",
      "findfont: Font family 'Helvetica' not found.\n",
      "findfont: Font family 'Helvetica' not found.\n",
      "/tmp/ipykernel_2262/2683761093.py:18: RuntimeWarning: More than 20 figures have been opened. Figures created through the pyplot interface (`matplotlib.pyplot.figure`) are retained until explicitly closed and may consume too much memory. (To control this warning, see the rcParam `figure.max_open_warning`). Consider using `matplotlib.pyplot.close()`.\n",
      "  plt.figure(figsize=(12, 6))\n",
      "findfont: Font family 'Helvetica' not found.\n",
      "findfont: Font family 'Helvetica' not found.\n",
      "findfont: Font family 'Helvetica' not found.\n",
      "findfont: Font family 'Helvetica' not found.\n",
      "findfont: Font family 'Helvetica' not found.\n",
      "findfont: Font family 'Helvetica' not found.\n",
      "findfont: Font family 'Helvetica' not found.\n",
      "findfont: Font family 'Helvetica' not found.\n",
      "findfont: Font family 'Helvetica' not found.\n",
      "findfont: Font family 'Helvetica' not found.\n",
      "findfont: Font family 'Helvetica' not found.\n",
      "findfont: Font family 'Helvetica' not found.\n",
      "findfont: Font family 'Helvetica' not found.\n",
      "findfont: Font family 'Helvetica' not found.\n",
      "findfont: Font family 'Helvetica' not found.\n",
      "findfont: Font family 'Helvetica' not found.\n",
      "findfont: Font family 'Helvetica' not found.\n",
      "findfont: Font family 'Helvetica' not found.\n",
      "findfont: Font family 'Helvetica' not found.\n",
      "findfont: Font family 'Helvetica' not found.\n",
      "findfont: Font family 'Helvetica' not found.\n",
      "findfont: Font family 'Helvetica' not found.\n",
      "findfont: Font family 'Helvetica' not found.\n",
      "findfont: Font family 'Helvetica' not found.\n",
      "findfont: Font family 'Helvetica' not found.\n",
      "findfont: Font family 'Helvetica' not found.\n",
      "findfont: Font family 'Helvetica' not found.\n",
      "findfont: Font family 'Helvetica' not found.\n",
      "findfont: Font family 'Helvetica' not found.\n",
      "findfont: Font family 'Helvetica' not found.\n",
      "findfont: Font family 'Helvetica' not found.\n",
      "findfont: Font family 'Helvetica' not found.\n",
      "findfont: Font family 'Helvetica' not found.\n",
      "findfont: Font family 'Helvetica' not found.\n",
      "findfont: Font family 'Helvetica' not found.\n",
      "findfont: Font family 'Helvetica' not found.\n",
      "findfont: Font family 'Helvetica' not found.\n",
      "findfont: Font family 'Helvetica' not found.\n",
      "findfont: Font family 'Helvetica' not found.\n",
      "findfont: Font family 'Helvetica' not found.\n",
      "findfont: Font family 'Helvetica' not found.\n",
      "findfont: Font family 'Helvetica' not found.\n",
      "findfont: Font family 'Helvetica' not found.\n",
      "findfont: Font family 'Helvetica' not found.\n",
      "findfont: Font family 'Helvetica' not found.\n",
      "findfont: Font family 'Helvetica' not found.\n",
      "findfont: Font family 'Helvetica' not found.\n",
      "findfont: Font family 'Helvetica' not found.\n",
      "findfont: Font family 'Helvetica' not found.\n",
      "findfont: Font family 'Helvetica' not found.\n",
      "findfont: Font family 'Helvetica' not found.\n",
      "findfont: Font family 'Helvetica' not found.\n",
      "findfont: Font family 'Helvetica' not found.\n",
      "findfont: Font family 'Helvetica' not found.\n",
      "findfont: Font family 'Helvetica' not found.\n",
      "findfont: Font family 'Helvetica' not found.\n",
      "findfont: Font family 'Helvetica' not found.\n",
      "findfont: Font family 'Helvetica' not found.\n",
      "findfont: Font family 'Helvetica' not found.\n",
      "findfont: Font family 'Helvetica' not found.\n",
      "findfont: Font family 'Helvetica' not found.\n",
      "findfont: Font family 'Helvetica' not found.\n",
      "findfont: Font family 'Helvetica' not found.\n",
      "findfont: Font family 'Helvetica' not found.\n",
      "findfont: Font family 'Helvetica' not found.\n",
      "findfont: Font family 'Helvetica' not found.\n",
      "findfont: Font family 'Helvetica' not found.\n",
      "findfont: Font family 'Helvetica' not found.\n"
     ]
    },
    {
     "name": "stdout",
     "output_type": "stream",
     "text": [
      "✅ 全選手の活動カレンダーを'player_calendars'フォルダに保存しました。\n"
     ]
    },
    {
     "data": {
      "text/plain": [
       "<Figure size 1200x600 with 0 Axes>"
      ]
     },
     "metadata": {},
     "output_type": "display_data"
    },
    {
     "data": {
      "text/plain": [
       "<Figure size 1200x600 with 0 Axes>"
      ]
     },
     "metadata": {},
     "output_type": "display_data"
    },
    {
     "data": {
      "text/plain": [
       "<Figure size 1200x600 with 0 Axes>"
      ]
     },
     "metadata": {},
     "output_type": "display_data"
    },
    {
     "data": {
      "text/plain": [
       "<Figure size 1200x600 with 0 Axes>"
      ]
     },
     "metadata": {},
     "output_type": "display_data"
    },
    {
     "data": {
      "text/plain": [
       "<Figure size 1200x600 with 0 Axes>"
      ]
     },
     "metadata": {},
     "output_type": "display_data"
    },
    {
     "data": {
      "text/plain": [
       "<Figure size 1200x600 with 0 Axes>"
      ]
     },
     "metadata": {},
     "output_type": "display_data"
    },
    {
     "data": {
      "text/plain": [
       "<Figure size 1200x600 with 0 Axes>"
      ]
     },
     "metadata": {},
     "output_type": "display_data"
    },
    {
     "data": {
      "text/plain": [
       "<Figure size 1200x600 with 0 Axes>"
      ]
     },
     "metadata": {},
     "output_type": "display_data"
    },
    {
     "data": {
      "text/plain": [
       "<Figure size 1200x600 with 0 Axes>"
      ]
     },
     "metadata": {},
     "output_type": "display_data"
    },
    {
     "data": {
      "text/plain": [
       "<Figure size 1200x600 with 0 Axes>"
      ]
     },
     "metadata": {},
     "output_type": "display_data"
    },
    {
     "data": {
      "text/plain": [
       "<Figure size 1200x600 with 0 Axes>"
      ]
     },
     "metadata": {},
     "output_type": "display_data"
    },
    {
     "data": {
      "text/plain": [
       "<Figure size 1200x600 with 0 Axes>"
      ]
     },
     "metadata": {},
     "output_type": "display_data"
    },
    {
     "data": {
      "text/plain": [
       "<Figure size 1200x600 with 0 Axes>"
      ]
     },
     "metadata": {},
     "output_type": "display_data"
    },
    {
     "data": {
      "text/plain": [
       "<Figure size 1200x600 with 0 Axes>"
      ]
     },
     "metadata": {},
     "output_type": "display_data"
    },
    {
     "data": {
      "text/plain": [
       "<Figure size 1200x600 with 0 Axes>"
      ]
     },
     "metadata": {},
     "output_type": "display_data"
    },
    {
     "data": {
      "text/plain": [
       "<Figure size 1200x600 with 0 Axes>"
      ]
     },
     "metadata": {},
     "output_type": "display_data"
    },
    {
     "data": {
      "text/plain": [
       "<Figure size 1200x600 with 0 Axes>"
      ]
     },
     "metadata": {},
     "output_type": "display_data"
    },
    {
     "data": {
      "text/plain": [
       "<Figure size 1200x600 with 0 Axes>"
      ]
     },
     "metadata": {},
     "output_type": "display_data"
    },
    {
     "data": {
      "text/plain": [
       "<Figure size 1200x600 with 0 Axes>"
      ]
     },
     "metadata": {},
     "output_type": "display_data"
    },
    {
     "data": {
      "text/plain": [
       "<Figure size 1200x600 with 0 Axes>"
      ]
     },
     "metadata": {},
     "output_type": "display_data"
    },
    {
     "data": {
      "text/plain": [
       "<Figure size 1200x600 with 0 Axes>"
      ]
     },
     "metadata": {},
     "output_type": "display_data"
    },
    {
     "data": {
      "text/plain": [
       "<Figure size 1200x600 with 0 Axes>"
      ]
     },
     "metadata": {},
     "output_type": "display_data"
    },
    {
     "data": {
      "text/plain": [
       "<Figure size 1200x600 with 0 Axes>"
      ]
     },
     "metadata": {},
     "output_type": "display_data"
    },
    {
     "data": {
      "text/plain": [
       "<Figure size 1200x600 with 0 Axes>"
      ]
     },
     "metadata": {},
     "output_type": "display_data"
    },
    {
     "data": {
      "text/plain": [
       "<Figure size 1200x600 with 0 Axes>"
      ]
     },
     "metadata": {},
     "output_type": "display_data"
    },
    {
     "data": {
      "text/plain": [
       "<Figure size 1200x600 with 0 Axes>"
      ]
     },
     "metadata": {},
     "output_type": "display_data"
    },
    {
     "data": {
      "text/plain": [
       "<Figure size 1200x600 with 0 Axes>"
      ]
     },
     "metadata": {},
     "output_type": "display_data"
    },
    {
     "data": {
      "text/plain": [
       "<Figure size 1200x600 with 0 Axes>"
      ]
     },
     "metadata": {},
     "output_type": "display_data"
    },
    {
     "data": {
      "text/plain": [
       "<Figure size 1200x600 with 0 Axes>"
      ]
     },
     "metadata": {},
     "output_type": "display_data"
    },
    {
     "data": {
      "text/plain": [
       "<Figure size 1200x600 with 0 Axes>"
      ]
     },
     "metadata": {},
     "output_type": "display_data"
    },
    {
     "data": {
      "text/plain": [
       "<Figure size 1200x600 with 0 Axes>"
      ]
     },
     "metadata": {},
     "output_type": "display_data"
    },
    {
     "data": {
      "text/plain": [
       "<Figure size 1200x600 with 0 Axes>"
      ]
     },
     "metadata": {},
     "output_type": "display_data"
    },
    {
     "data": {
      "text/plain": [
       "<Figure size 1200x600 with 0 Axes>"
      ]
     },
     "metadata": {},
     "output_type": "display_data"
    },
    {
     "data": {
      "text/plain": [
       "<Figure size 1200x600 with 0 Axes>"
      ]
     },
     "metadata": {},
     "output_type": "display_data"
    },
    {
     "data": {
      "text/plain": [
       "<Figure size 1200x600 with 0 Axes>"
      ]
     },
     "metadata": {},
     "output_type": "display_data"
    },
    {
     "data": {
      "text/plain": [
       "<Figure size 1200x600 with 0 Axes>"
      ]
     },
     "metadata": {},
     "output_type": "display_data"
    },
    {
     "data": {
      "text/plain": [
       "<Figure size 1200x600 with 0 Axes>"
      ]
     },
     "metadata": {},
     "output_type": "display_data"
    }
   ],
   "source": [
    "import calplot\n",
    "import matplotlib.pyplot as plt\n",
    "import japanize_matplotlib\n",
    "import os\n",
    "\n",
    "# 1. 保存用のフォルダを作成\n",
    "output_folder = 'player_calendars'\n",
    "os.makedirs(output_folder, exist_ok=True)\n",
    "\n",
    "# 2. 全ての選手名のリストを取得\n",
    "athlete_ids = df['athlete_id'].unique()\n",
    "\n",
    "# 3. forループで各選手に対してグラフ作成と保存を繰り返す\n",
    "for athlete_id in athlete_ids:\n",
    "    player_df = df[df['athlete_id'] == athlete_id]\n",
    "    player_activity = player_df.groupby('date_').size()\n",
    "    \n",
    "    plt.figure(figsize=(12, 6))\n",
    "    calplot.calplot(player_activity, cmap='viridis', suptitle=f'{athlete_id}選手の活動日カレンダー')\n",
    "    # ファイルとして保存\n",
    "    plt.savefig(f'{output_folder}/{athlete_id}_calendar.png')\n",
    "\n",
    "    # メモリを解放するためにプロットを閉じる\n",
    "    plt.close()\n",
    "\n",
    "print(f\"✅ 全選手の活動カレンダーを'{output_folder}'フォルダに保存しました。\")"
   ]
  },
  {
   "cell_type": "code",
   "execution_count": 9,
   "id": "f6dac708",
   "metadata": {},
   "outputs": [
    {
     "name": "stdout",
     "output_type": "stream",
     "text": [
      "✅ 全選手の活動カレンダーを'activity_report.pdf'として保存しました。\n"
     ]
    }
   ],
   "source": [
    "from PIL import Image\n",
    "import os\n",
    "\n",
    "# 1. 画像が保存されているフォルダと、出力するPDFファイル名を指定\n",
    "image_folder = 'player_calendars'\n",
    "pdf_filename = 'activity_report.pdf'\n",
    "\n",
    "# 2. フォルダ内の全てのPNGファイル名を取得し、名前順に並べる\n",
    "try:\n",
    "    image_files = [f for f in os.listdir(image_folder) if f.endswith('.png')]\n",
    "    image_files.sort(key=lambda x: int(x.split('_')[0]))  # id順に並べる\n",
    "    \n",
    "    if not image_files:\n",
    "        print(f\"'{image_folder}' フォルダにPNG画像が見つかりませんでした。\")\n",
    "    else:\n",
    "        # 3. 最初の画像をベースに、残りの画像をPDFのページとして追加\n",
    "        first_image_path = os.path.join(image_folder, image_files[0])\n",
    "        first_image = Image.open(first_image_path).convert('RGB')\n",
    "        \n",
    "        append_images = []\n",
    "        for filename in image_files[1:]:\n",
    "            image_path = os.path.join(image_folder, filename)\n",
    "            img = Image.open(image_path).convert('RGB')\n",
    "            append_images.append(img)\n",
    "            \n",
    "        # 4. PDFとして保存\n",
    "        first_image.save(\n",
    "            pdf_filename,\n",
    "            \"PDF\",\n",
    "            resolution=100.0,\n",
    "            save_all=True,\n",
    "            append_images=append_images\n",
    "        )\n",
    "        \n",
    "        print(f\"✅ 全選手の活動カレンダーを'{pdf_filename}'として保存しました。\")\n",
    "\n",
    "except FileNotFoundError:\n",
    "    print(f\"❌ エラー: '{image_folder}' フォルダが見つかりません。\")"
   ]
  }
 ],
 "metadata": {
  "kernelspec": {
   "display_name": "base",
   "language": "python",
   "name": "python3"
  },
  "language_info": {
   "codemirror_mode": {
    "name": "ipython",
    "version": 3
   },
   "file_extension": ".py",
   "mimetype": "text/x-python",
   "name": "python",
   "nbconvert_exporter": "python",
   "pygments_lexer": "ipython3",
   "version": "3.11.6"
  }
 },
 "nbformat": 4,
 "nbformat_minor": 5
}
